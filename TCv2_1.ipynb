{
 "cells": [
  {
   "cell_type": "markdown",
   "metadata": {},
   "source": [
    "### Analysis with Pandas of weight loss group results "
   ]
  },
  {
   "cell_type": "code",
   "execution_count": 1,
   "metadata": {},
   "outputs": [],
   "source": [
    "import pandas as pd\n",
    "import numpy as np\n",
    "# to show plots in jupiter\n",
    "%matplotlib inline\n",
    "import matplotlib.pyplot as plt"
   ]
  },
  {
   "cell_type": "code",
   "execution_count": 2,
   "metadata": {},
   "outputs": [],
   "source": [
    "#data = pd.read_csv('Persons_All') #latest date is  May 2020\n",
    "data = pd.read_csv('Persons_All_tillSept2020.csv') # latest date is September 2020"
   ]
  },
  {
   "cell_type": "markdown",
   "metadata": {},
   "source": [
    "**num - number of person in source database  \n",
    "name - hash of name  \n",
    "gender - 0: female; 1: male  \n",
    "Iba - if a person is an employee for iba.by  \n",
    "age, height  \n",
    "month, year - start of activity  \n",
    "long - how many months activity lasts  \n",
    "weight, waist... - sizes before  \n",
    "weightF, waistF... - sizes after**"
   ]
  },
  {
   "cell_type": "code",
   "execution_count": 3,
   "metadata": {
    "scrolled": false
   },
   "outputs": [
    {
     "data": {
      "text/html": [
       "<div>\n",
       "<style scoped>\n",
       "    .dataframe tbody tr th:only-of-type {\n",
       "        vertical-align: middle;\n",
       "    }\n",
       "\n",
       "    .dataframe tbody tr th {\n",
       "        vertical-align: top;\n",
       "    }\n",
       "\n",
       "    .dataframe thead th {\n",
       "        text-align: right;\n",
       "    }\n",
       "</style>\n",
       "<table border=\"1\" class=\"dataframe\">\n",
       "  <thead>\n",
       "    <tr style=\"text-align: right;\">\n",
       "      <th></th>\n",
       "      <th>num</th>\n",
       "      <th>name</th>\n",
       "      <th>gender</th>\n",
       "      <th>Iba</th>\n",
       "      <th>age</th>\n",
       "      <th>height</th>\n",
       "      <th>month</th>\n",
       "      <th>year</th>\n",
       "      <th>long</th>\n",
       "      <th>weight</th>\n",
       "      <th>...</th>\n",
       "      <th>weightF</th>\n",
       "      <th>breastF</th>\n",
       "      <th>ubreastF</th>\n",
       "      <th>waistF</th>\n",
       "      <th>bellyF</th>\n",
       "      <th>hipsF</th>\n",
       "      <th>rLegF</th>\n",
       "      <th>lLegF</th>\n",
       "      <th>rHandF</th>\n",
       "      <th>lHandF</th>\n",
       "    </tr>\n",
       "  </thead>\n",
       "  <tbody>\n",
       "    <tr>\n",
       "      <th>0</th>\n",
       "      <td>1.0</td>\n",
       "      <td>649831865</td>\n",
       "      <td>0.0</td>\n",
       "      <td>1.0</td>\n",
       "      <td>44.0</td>\n",
       "      <td>160.0</td>\n",
       "      <td>9.0</td>\n",
       "      <td>2019.0</td>\n",
       "      <td>1.0</td>\n",
       "      <td>67.50</td>\n",
       "      <td>...</td>\n",
       "      <td>65.70</td>\n",
       "      <td>101.0</td>\n",
       "      <td>86.0</td>\n",
       "      <td>85.0</td>\n",
       "      <td>99.0</td>\n",
       "      <td>101.0</td>\n",
       "      <td>58.0</td>\n",
       "      <td>58.0</td>\n",
       "      <td>31.0</td>\n",
       "      <td>31.0</td>\n",
       "    </tr>\n",
       "    <tr>\n",
       "      <th>1</th>\n",
       "      <td>1.0</td>\n",
       "      <td>649831865</td>\n",
       "      <td>0.0</td>\n",
       "      <td>1.0</td>\n",
       "      <td>44.0</td>\n",
       "      <td>160.0</td>\n",
       "      <td>11.0</td>\n",
       "      <td>2019.0</td>\n",
       "      <td>1.0</td>\n",
       "      <td>66.00</td>\n",
       "      <td>...</td>\n",
       "      <td>61.90</td>\n",
       "      <td>98.0</td>\n",
       "      <td>84.0</td>\n",
       "      <td>80.0</td>\n",
       "      <td>95.0</td>\n",
       "      <td>97.0</td>\n",
       "      <td>55.0</td>\n",
       "      <td>55.0</td>\n",
       "      <td>29.0</td>\n",
       "      <td>29.0</td>\n",
       "    </tr>\n",
       "    <tr>\n",
       "      <th>2</th>\n",
       "      <td>1.0</td>\n",
       "      <td>649831865</td>\n",
       "      <td>0.0</td>\n",
       "      <td>1.0</td>\n",
       "      <td>44.0</td>\n",
       "      <td>160.0</td>\n",
       "      <td>2.0</td>\n",
       "      <td>2020.0</td>\n",
       "      <td>1.0</td>\n",
       "      <td>62.85</td>\n",
       "      <td>...</td>\n",
       "      <td>61.15</td>\n",
       "      <td>95.0</td>\n",
       "      <td>80.0</td>\n",
       "      <td>79.0</td>\n",
       "      <td>93.0</td>\n",
       "      <td>97.0</td>\n",
       "      <td>54.5</td>\n",
       "      <td>54.5</td>\n",
       "      <td>29.0</td>\n",
       "      <td>30.0</td>\n",
       "    </tr>\n",
       "    <tr>\n",
       "      <th>3</th>\n",
       "      <td>1.0</td>\n",
       "      <td>649831865</td>\n",
       "      <td>0.0</td>\n",
       "      <td>1.0</td>\n",
       "      <td>44.0</td>\n",
       "      <td>160.0</td>\n",
       "      <td>3.0</td>\n",
       "      <td>2020.0</td>\n",
       "      <td>1.0</td>\n",
       "      <td>61.15</td>\n",
       "      <td>...</td>\n",
       "      <td>59.15</td>\n",
       "      <td>93.0</td>\n",
       "      <td>79.0</td>\n",
       "      <td>77.0</td>\n",
       "      <td>92.0</td>\n",
       "      <td>96.0</td>\n",
       "      <td>54.0</td>\n",
       "      <td>54.0</td>\n",
       "      <td>28.0</td>\n",
       "      <td>28.0</td>\n",
       "    </tr>\n",
       "    <tr>\n",
       "      <th>4</th>\n",
       "      <td>2.0</td>\n",
       "      <td>528993913</td>\n",
       "      <td>0.0</td>\n",
       "      <td>1.0</td>\n",
       "      <td>37.0</td>\n",
       "      <td>172.0</td>\n",
       "      <td>2.0</td>\n",
       "      <td>2020.0</td>\n",
       "      <td>1.0</td>\n",
       "      <td>88.60</td>\n",
       "      <td>...</td>\n",
       "      <td>81.30</td>\n",
       "      <td>102.0</td>\n",
       "      <td>88.0</td>\n",
       "      <td>86.0</td>\n",
       "      <td>100.0</td>\n",
       "      <td>107.0</td>\n",
       "      <td>63.0</td>\n",
       "      <td>62.0</td>\n",
       "      <td>34.0</td>\n",
       "      <td>33.0</td>\n",
       "    </tr>\n",
       "  </tbody>\n",
       "</table>\n",
       "<p>5 rows × 29 columns</p>\n",
       "</div>"
      ],
      "text/plain": [
       "   num       name  gender  Iba   age  height  month    year  long  weight  \\\n",
       "0  1.0  649831865     0.0  1.0  44.0   160.0    9.0  2019.0   1.0   67.50   \n",
       "1  1.0  649831865     0.0  1.0  44.0   160.0   11.0  2019.0   1.0   66.00   \n",
       "2  1.0  649831865     0.0  1.0  44.0   160.0    2.0  2020.0   1.0   62.85   \n",
       "3  1.0  649831865     0.0  1.0  44.0   160.0    3.0  2020.0   1.0   61.15   \n",
       "4  2.0  528993913     0.0  1.0  37.0   172.0    2.0  2020.0   1.0   88.60   \n",
       "\n",
       "   ...  weightF  breastF  ubreastF  waistF  bellyF  hipsF  rLegF  lLegF  \\\n",
       "0  ...    65.70    101.0      86.0    85.0    99.0  101.0   58.0   58.0   \n",
       "1  ...    61.90     98.0      84.0    80.0    95.0   97.0   55.0   55.0   \n",
       "2  ...    61.15     95.0      80.0    79.0    93.0   97.0   54.5   54.5   \n",
       "3  ...    59.15     93.0      79.0    77.0    92.0   96.0   54.0   54.0   \n",
       "4  ...    81.30    102.0      88.0    86.0   100.0  107.0   63.0   62.0   \n",
       "\n",
       "   rHandF  lHandF  \n",
       "0    31.0    31.0  \n",
       "1    29.0    29.0  \n",
       "2    29.0    30.0  \n",
       "3    28.0    28.0  \n",
       "4    34.0    33.0  \n",
       "\n",
       "[5 rows x 29 columns]"
      ]
     },
     "execution_count": 3,
     "metadata": {},
     "output_type": "execute_result"
    }
   ],
   "source": [
    "data.head()"
   ]
  },
  {
   "cell_type": "markdown",
   "metadata": {},
   "source": [
    "**create timestampts for start of activity**"
   ]
  },
  {
   "cell_type": "code",
   "execution_count": 4,
   "metadata": {},
   "outputs": [],
   "source": [
    "data=data.fillna(0)\n",
    "data['month']=data['month'].astype(int)\n",
    "data['year']=data['year'].astype(int)"
   ]
  },
  {
   "cell_type": "code",
   "execution_count": 5,
   "metadata": {},
   "outputs": [],
   "source": [
    "data['start'] = pd.to_datetime([f'{y}-{m}-{d}' for y, m, d in zip(data.year, data.month, np.ones(len(data['year']), dtype=int))])"
   ]
  },
  {
   "cell_type": "markdown",
   "metadata": {},
   "source": [
    "**remove unnecessary columns**"
   ]
  },
  {
   "cell_type": "code",
   "execution_count": 6,
   "metadata": {},
   "outputs": [],
   "source": [
    "data=data.drop('num',axis=1)\n",
    "data=data.drop('Iba',axis=1)\n",
    "data=data.drop('month',axis=1)\n",
    "data=data.drop('year',axis=1)\n",
    "data=data.drop('breast',axis=1)\n",
    "data=data.drop('ubreast',axis=1)\n",
    "data=data.drop('belly',axis=1)\n",
    "data=data.drop('hips',axis=1)\n",
    "data=data.drop('rLeg',axis=1)\n",
    "data=data.drop('lLeg',axis=1)\n",
    "data=data.drop('rHand',axis=1)\n",
    "data=data.drop('lHand',axis=1)\n",
    "data=data.drop('breastF',axis=1)\n",
    "data=data.drop('ubreastF',axis=1)\n",
    "data=data.drop('bellyF',axis=1)\n",
    "data=data.drop('hipsF',axis=1)\n",
    "data=data.drop('rLegF',axis=1)\n",
    "data=data.drop('lLegF',axis=1)\n",
    "data=data.drop('rHandF',axis=1)\n",
    "data=data.drop('lHandF',axis=1)"
   ]
  },
  {
   "cell_type": "markdown",
   "metadata": {},
   "source": [
    "**remove records about uncompleted activity**"
   ]
  },
  {
   "cell_type": "code",
   "execution_count": 7,
   "metadata": {},
   "outputs": [],
   "source": [
    "data=data[data['long']>=1]\n",
    "data=data.drop('long',axis=1)"
   ]
  },
  {
   "cell_type": "markdown",
   "metadata": {},
   "source": [
    "**it is a start point**"
   ]
  },
  {
   "cell_type": "code",
   "execution_count": 8,
   "metadata": {},
   "outputs": [
    {
     "data": {
      "text/html": [
       "<div>\n",
       "<style scoped>\n",
       "    .dataframe tbody tr th:only-of-type {\n",
       "        vertical-align: middle;\n",
       "    }\n",
       "\n",
       "    .dataframe tbody tr th {\n",
       "        vertical-align: top;\n",
       "    }\n",
       "\n",
       "    .dataframe thead th {\n",
       "        text-align: right;\n",
       "    }\n",
       "</style>\n",
       "<table border=\"1\" class=\"dataframe\">\n",
       "  <thead>\n",
       "    <tr style=\"text-align: right;\">\n",
       "      <th></th>\n",
       "      <th>name</th>\n",
       "      <th>gender</th>\n",
       "      <th>age</th>\n",
       "      <th>height</th>\n",
       "      <th>weight</th>\n",
       "      <th>waist</th>\n",
       "      <th>weightF</th>\n",
       "      <th>waistF</th>\n",
       "      <th>start</th>\n",
       "    </tr>\n",
       "  </thead>\n",
       "  <tbody>\n",
       "    <tr>\n",
       "      <th>0</th>\n",
       "      <td>649831865</td>\n",
       "      <td>0.0</td>\n",
       "      <td>44.0</td>\n",
       "      <td>160.0</td>\n",
       "      <td>67.50</td>\n",
       "      <td>83.0</td>\n",
       "      <td>65.70</td>\n",
       "      <td>85.0</td>\n",
       "      <td>2019-09-01</td>\n",
       "    </tr>\n",
       "    <tr>\n",
       "      <th>1</th>\n",
       "      <td>649831865</td>\n",
       "      <td>0.0</td>\n",
       "      <td>44.0</td>\n",
       "      <td>160.0</td>\n",
       "      <td>66.00</td>\n",
       "      <td>88.0</td>\n",
       "      <td>61.90</td>\n",
       "      <td>80.0</td>\n",
       "      <td>2019-11-01</td>\n",
       "    </tr>\n",
       "    <tr>\n",
       "      <th>2</th>\n",
       "      <td>649831865</td>\n",
       "      <td>0.0</td>\n",
       "      <td>44.0</td>\n",
       "      <td>160.0</td>\n",
       "      <td>62.85</td>\n",
       "      <td>83.0</td>\n",
       "      <td>61.15</td>\n",
       "      <td>79.0</td>\n",
       "      <td>2020-02-01</td>\n",
       "    </tr>\n",
       "    <tr>\n",
       "      <th>3</th>\n",
       "      <td>649831865</td>\n",
       "      <td>0.0</td>\n",
       "      <td>44.0</td>\n",
       "      <td>160.0</td>\n",
       "      <td>61.15</td>\n",
       "      <td>79.0</td>\n",
       "      <td>59.15</td>\n",
       "      <td>77.0</td>\n",
       "      <td>2020-03-01</td>\n",
       "    </tr>\n",
       "    <tr>\n",
       "      <th>4</th>\n",
       "      <td>528993913</td>\n",
       "      <td>0.0</td>\n",
       "      <td>37.0</td>\n",
       "      <td>172.0</td>\n",
       "      <td>88.60</td>\n",
       "      <td>92.0</td>\n",
       "      <td>81.30</td>\n",
       "      <td>86.0</td>\n",
       "      <td>2020-02-01</td>\n",
       "    </tr>\n",
       "  </tbody>\n",
       "</table>\n",
       "</div>"
      ],
      "text/plain": [
       "        name  gender   age  height  weight  waist  weightF  waistF      start\n",
       "0  649831865     0.0  44.0   160.0   67.50   83.0    65.70    85.0 2019-09-01\n",
       "1  649831865     0.0  44.0   160.0   66.00   88.0    61.90    80.0 2019-11-01\n",
       "2  649831865     0.0  44.0   160.0   62.85   83.0    61.15    79.0 2020-02-01\n",
       "3  649831865     0.0  44.0   160.0   61.15   79.0    59.15    77.0 2020-03-01\n",
       "4  528993913     0.0  37.0   172.0   88.60   92.0    81.30    86.0 2020-02-01"
      ]
     },
     "execution_count": 8,
     "metadata": {},
     "output_type": "execute_result"
    }
   ],
   "source": [
    "data.head()"
   ]
  },
  {
   "cell_type": "markdown",
   "metadata": {},
   "source": [
    "**combine sizes before the first activity with sizes after the last one  \n",
    "age and height might change**"
   ]
  },
  {
   "cell_type": "code",
   "execution_count": 9,
   "metadata": {},
   "outputs": [],
   "source": [
    "Total=data.groupby('name').head(1)\n",
    "Total.set_index('name',inplace=True)\n",
    "TotalY=data.groupby('name').tail(1)\n",
    "TotalY.set_index('name',inplace=True)\n"
   ]
  },
  {
   "cell_type": "code",
   "execution_count": 16,
   "metadata": {},
   "outputs": [],
   "source": [
    "Total.loc[:,'weightF']=TotalY['weightF']\n",
    "Total.loc[:,'waistF']=TotalY['waistF']"
   ]
  },
  {
   "cell_type": "code",
   "execution_count": 17,
   "metadata": {},
   "outputs": [],
   "source": [
    "Total.loc[:,'delta']=Total['weight']-Total['weightF']"
   ]
  },
  {
   "cell_type": "code",
   "execution_count": 19,
   "metadata": {},
   "outputs": [],
   "source": [
    "Total.loc[:,'deltaPr']=Total['delta']*100/Total['weight']"
   ]
  },
  {
   "cell_type": "code",
   "execution_count": 20,
   "metadata": {
    "scrolled": true
   },
   "outputs": [
    {
     "data": {
      "text/html": [
       "<div>\n",
       "<style scoped>\n",
       "    .dataframe tbody tr th:only-of-type {\n",
       "        vertical-align: middle;\n",
       "    }\n",
       "\n",
       "    .dataframe tbody tr th {\n",
       "        vertical-align: top;\n",
       "    }\n",
       "\n",
       "    .dataframe thead th {\n",
       "        text-align: right;\n",
       "    }\n",
       "</style>\n",
       "<table border=\"1\" class=\"dataframe\">\n",
       "  <thead>\n",
       "    <tr style=\"text-align: right;\">\n",
       "      <th></th>\n",
       "      <th>gender</th>\n",
       "      <th>age</th>\n",
       "      <th>height</th>\n",
       "      <th>weight</th>\n",
       "      <th>waist</th>\n",
       "      <th>weightF</th>\n",
       "      <th>waistF</th>\n",
       "      <th>delta</th>\n",
       "      <th>deltaPr</th>\n",
       "    </tr>\n",
       "  </thead>\n",
       "  <tbody>\n",
       "    <tr>\n",
       "      <th>count</th>\n",
       "      <td>157.000000</td>\n",
       "      <td>157.000000</td>\n",
       "      <td>157.000000</td>\n",
       "      <td>157.000000</td>\n",
       "      <td>157.000000</td>\n",
       "      <td>157.000000</td>\n",
       "      <td>157.000000</td>\n",
       "      <td>157.000000</td>\n",
       "      <td>157.000000</td>\n",
       "    </tr>\n",
       "    <tr>\n",
       "      <th>mean</th>\n",
       "      <td>0.025478</td>\n",
       "      <td>20.191083</td>\n",
       "      <td>92.808917</td>\n",
       "      <td>78.710510</td>\n",
       "      <td>46.538217</td>\n",
       "      <td>71.596178</td>\n",
       "      <td>42.940764</td>\n",
       "      <td>7.114331</td>\n",
       "      <td>8.915564</td>\n",
       "    </tr>\n",
       "    <tr>\n",
       "      <th>std</th>\n",
       "      <td>0.158075</td>\n",
       "      <td>17.349032</td>\n",
       "      <td>82.575850</td>\n",
       "      <td>15.036655</td>\n",
       "      <td>45.629905</td>\n",
       "      <td>13.643792</td>\n",
       "      <td>42.078760</td>\n",
       "      <td>3.883875</td>\n",
       "      <td>4.181264</td>\n",
       "    </tr>\n",
       "    <tr>\n",
       "      <th>min</th>\n",
       "      <td>0.000000</td>\n",
       "      <td>0.000000</td>\n",
       "      <td>0.000000</td>\n",
       "      <td>48.000000</td>\n",
       "      <td>0.000000</td>\n",
       "      <td>45.000000</td>\n",
       "      <td>0.000000</td>\n",
       "      <td>-0.500000</td>\n",
       "      <td>-0.778816</td>\n",
       "    </tr>\n",
       "    <tr>\n",
       "      <th>25%</th>\n",
       "      <td>0.000000</td>\n",
       "      <td>0.000000</td>\n",
       "      <td>0.000000</td>\n",
       "      <td>68.000000</td>\n",
       "      <td>0.000000</td>\n",
       "      <td>62.200000</td>\n",
       "      <td>0.000000</td>\n",
       "      <td>4.500000</td>\n",
       "      <td>6.508876</td>\n",
       "    </tr>\n",
       "    <tr>\n",
       "      <th>50%</th>\n",
       "      <td>0.000000</td>\n",
       "      <td>27.000000</td>\n",
       "      <td>158.000000</td>\n",
       "      <td>75.700000</td>\n",
       "      <td>70.000000</td>\n",
       "      <td>69.600000</td>\n",
       "      <td>66.000000</td>\n",
       "      <td>6.100000</td>\n",
       "      <td>7.941176</td>\n",
       "    </tr>\n",
       "    <tr>\n",
       "      <th>75%</th>\n",
       "      <td>0.000000</td>\n",
       "      <td>34.000000</td>\n",
       "      <td>165.000000</td>\n",
       "      <td>87.000000</td>\n",
       "      <td>88.000000</td>\n",
       "      <td>79.500000</td>\n",
       "      <td>81.000000</td>\n",
       "      <td>8.200000</td>\n",
       "      <td>10.461538</td>\n",
       "    </tr>\n",
       "    <tr>\n",
       "      <th>max</th>\n",
       "      <td>1.000000</td>\n",
       "      <td>63.000000</td>\n",
       "      <td>182.000000</td>\n",
       "      <td>131.850000</td>\n",
       "      <td>118.000000</td>\n",
       "      <td>121.400000</td>\n",
       "      <td>110.000000</td>\n",
       "      <td>24.600000</td>\n",
       "      <td>27.765237</td>\n",
       "    </tr>\n",
       "  </tbody>\n",
       "</table>\n",
       "</div>"
      ],
      "text/plain": [
       "           gender         age      height      weight       waist     weightF  \\\n",
       "count  157.000000  157.000000  157.000000  157.000000  157.000000  157.000000   \n",
       "mean     0.025478   20.191083   92.808917   78.710510   46.538217   71.596178   \n",
       "std      0.158075   17.349032   82.575850   15.036655   45.629905   13.643792   \n",
       "min      0.000000    0.000000    0.000000   48.000000    0.000000   45.000000   \n",
       "25%      0.000000    0.000000    0.000000   68.000000    0.000000   62.200000   \n",
       "50%      0.000000   27.000000  158.000000   75.700000   70.000000   69.600000   \n",
       "75%      0.000000   34.000000  165.000000   87.000000   88.000000   79.500000   \n",
       "max      1.000000   63.000000  182.000000  131.850000  118.000000  121.400000   \n",
       "\n",
       "           waistF       delta     deltaPr  \n",
       "count  157.000000  157.000000  157.000000  \n",
       "mean    42.940764    7.114331    8.915564  \n",
       "std     42.078760    3.883875    4.181264  \n",
       "min      0.000000   -0.500000   -0.778816  \n",
       "25%      0.000000    4.500000    6.508876  \n",
       "50%     66.000000    6.100000    7.941176  \n",
       "75%     81.000000    8.200000   10.461538  \n",
       "max    110.000000   24.600000   27.765237  "
      ]
     },
     "execution_count": 20,
     "metadata": {},
     "output_type": "execute_result"
    }
   ],
   "source": [
    "Total.describe()"
   ]
  },
  {
   "cell_type": "markdown",
   "metadata": {},
   "source": [
    "**let's investigate negative delta**"
   ]
  },
  {
   "cell_type": "code",
   "execution_count": 22,
   "metadata": {},
   "outputs": [
    {
     "data": {
      "text/html": [
       "<div>\n",
       "<style scoped>\n",
       "    .dataframe tbody tr th:only-of-type {\n",
       "        vertical-align: middle;\n",
       "    }\n",
       "\n",
       "    .dataframe tbody tr th {\n",
       "        vertical-align: top;\n",
       "    }\n",
       "\n",
       "    .dataframe thead th {\n",
       "        text-align: right;\n",
       "    }\n",
       "</style>\n",
       "<table border=\"1\" class=\"dataframe\">\n",
       "  <thead>\n",
       "    <tr style=\"text-align: right;\">\n",
       "      <th></th>\n",
       "      <th>gender</th>\n",
       "      <th>age</th>\n",
       "      <th>height</th>\n",
       "      <th>weight</th>\n",
       "      <th>waist</th>\n",
       "      <th>weightF</th>\n",
       "      <th>waistF</th>\n",
       "      <th>start</th>\n",
       "      <th>delta</th>\n",
       "      <th>deltaPr</th>\n",
       "    </tr>\n",
       "    <tr>\n",
       "      <th>name</th>\n",
       "      <th></th>\n",
       "      <th></th>\n",
       "      <th></th>\n",
       "      <th></th>\n",
       "      <th></th>\n",
       "      <th></th>\n",
       "      <th></th>\n",
       "      <th></th>\n",
       "      <th></th>\n",
       "      <th></th>\n",
       "    </tr>\n",
       "  </thead>\n",
       "  <tbody>\n",
       "    <tr>\n",
       "      <th>1264308416</th>\n",
       "      <td>0.0</td>\n",
       "      <td>50.0</td>\n",
       "      <td>158.0</td>\n",
       "      <td>64.2</td>\n",
       "      <td>86.0</td>\n",
       "      <td>64.7</td>\n",
       "      <td>81.0</td>\n",
       "      <td>2019-06-01</td>\n",
       "      <td>-0.5</td>\n",
       "      <td>-0.778816</td>\n",
       "    </tr>\n",
       "  </tbody>\n",
       "</table>\n",
       "</div>"
      ],
      "text/plain": [
       "            gender   age  height  weight  waist  weightF  waistF      start  \\\n",
       "name                                                                          \n",
       "1264308416     0.0  50.0   158.0    64.2   86.0     64.7    81.0 2019-06-01   \n",
       "\n",
       "            delta   deltaPr  \n",
       "name                         \n",
       "1264308416   -0.5 -0.778816  "
      ]
     },
     "execution_count": 22,
     "metadata": {},
     "output_type": "execute_result"
    }
   ],
   "source": [
    "Total[Total['delta']<0]"
   ]
  },
  {
   "cell_type": "code",
   "execution_count": 23,
   "metadata": {},
   "outputs": [
    {
     "data": {
      "text/html": [
       "<div>\n",
       "<style scoped>\n",
       "    .dataframe tbody tr th:only-of-type {\n",
       "        vertical-align: middle;\n",
       "    }\n",
       "\n",
       "    .dataframe tbody tr th {\n",
       "        vertical-align: top;\n",
       "    }\n",
       "\n",
       "    .dataframe thead th {\n",
       "        text-align: right;\n",
       "    }\n",
       "</style>\n",
       "<table border=\"1\" class=\"dataframe\">\n",
       "  <thead>\n",
       "    <tr style=\"text-align: right;\">\n",
       "      <th></th>\n",
       "      <th>name</th>\n",
       "      <th>gender</th>\n",
       "      <th>age</th>\n",
       "      <th>height</th>\n",
       "      <th>weight</th>\n",
       "      <th>waist</th>\n",
       "      <th>weightF</th>\n",
       "      <th>waistF</th>\n",
       "      <th>start</th>\n",
       "    </tr>\n",
       "  </thead>\n",
       "  <tbody>\n",
       "    <tr>\n",
       "      <th>40</th>\n",
       "      <td>1264308416</td>\n",
       "      <td>0.0</td>\n",
       "      <td>50.0</td>\n",
       "      <td>158.0</td>\n",
       "      <td>64.2</td>\n",
       "      <td>86.0</td>\n",
       "      <td>59.7</td>\n",
       "      <td>81.0</td>\n",
       "      <td>2019-06-01</td>\n",
       "    </tr>\n",
       "    <tr>\n",
       "      <th>165</th>\n",
       "      <td>1264308416</td>\n",
       "      <td>0.0</td>\n",
       "      <td>50.0</td>\n",
       "      <td>158.0</td>\n",
       "      <td>66.5</td>\n",
       "      <td>87.0</td>\n",
       "      <td>64.7</td>\n",
       "      <td>81.0</td>\n",
       "      <td>2020-05-01</td>\n",
       "    </tr>\n",
       "  </tbody>\n",
       "</table>\n",
       "</div>"
      ],
      "text/plain": [
       "           name  gender   age  height  weight  waist  weightF  waistF  \\\n",
       "40   1264308416     0.0  50.0   158.0    64.2   86.0     59.7    81.0   \n",
       "165  1264308416     0.0  50.0   158.0    66.5   87.0     64.7    81.0   \n",
       "\n",
       "         start  \n",
       "40  2019-06-01  \n",
       "165 2020-05-01  "
      ]
     },
     "execution_count": 23,
     "metadata": {},
     "output_type": "execute_result"
    }
   ],
   "source": [
    "data[data['name']==1264308416]"
   ]
  },
  {
   "cell_type": "markdown",
   "metadata": {},
   "source": [
    "**the waist remains the same, so it is a possible this woman built a lot of muscle during a year between participation in work of weight loss group. Have to drop this line out as a data outlier.**"
   ]
  },
  {
   "cell_type": "code",
   "execution_count": 37,
   "metadata": {},
   "outputs": [],
   "source": [
    "data=Total[Total['delta']>=0]"
   ]
  },
  {
   "cell_type": "markdown",
   "metadata": {},
   "source": [
    "**let's draw plots**"
   ]
  },
  {
   "cell_type": "code",
   "execution_count": 39,
   "metadata": {},
   "outputs": [
    {
     "data": {
      "text/plain": [
       "Text(0.5, 1.0, 'For the whole time of participating')"
      ]
     },
     "execution_count": 39,
     "metadata": {},
     "output_type": "execute_result"
    },
    {
     "data": {
      "image/png": "[encoded data removed]",
      "text/plain": [
       "<Figure size 432x288 with 1 Axes>"
      ]
     },
     "metadata": {
      "needs_background": "light"
     },
     "output_type": "display_data"
    }
   ],
   "source": [
    " _, ax = plt.subplots()\n",
    "ax.hist(data['delta'],bins=13, color='thistle',edgecolor='black')\n",
    "ax.set_xlabel('Weigh loss, kg')\n",
    "ax.set_ylabel('Number of persons')\n",
    "ax.set_title('For the whole time of participating')\n",
    "\n"
   ]
  },
  {
   "cell_type": "code",
   "execution_count": 40,
   "metadata": {},
   "outputs": [
    {
     "data": {
      "text/plain": [
       "count    156.000000\n",
       "mean       7.163141\n",
       "std        3.847773\n",
       "min        0.900000\n",
       "25%        4.575000\n",
       "50%        6.100000\n",
       "75%        8.225000\n",
       "max       24.600000\n",
       "Name: delta, dtype: float64"
      ]
     },
     "execution_count": 40,
     "metadata": {},
     "output_type": "execute_result"
    }
   ],
   "source": [
    "data['delta'].describe()"
   ]
  },
  {
   "cell_type": "code",
   "execution_count": 41,
   "metadata": {},
   "outputs": [
    {
     "data": {
      "text/plain": [
       "6.099999999999994"
      ]
     },
     "execution_count": 41,
     "metadata": {},
     "output_type": "execute_result"
    }
   ],
   "source": [
    "np.median(data['delta'])"
   ]
  },
  {
   "cell_type": "code",
   "execution_count": 42,
   "metadata": {},
   "outputs": [
    {
     "data": {
      "text/plain": [
       "Text(0.5, 1.0, 'For the whole time of participating')"
      ]
     },
     "execution_count": 42,
     "metadata": {},
     "output_type": "execute_result"
    },
    {
     "data": {
      "image/png": "[encoded data removed]",
      "text/plain": [
       "<Figure size 432x288 with 1 Axes>"
      ]
     },
     "metadata": {
      "needs_background": "light"
     },
     "output_type": "display_data"
    }
   ],
   "source": [
    " _, ax = plt.subplots()\n",
    "ax.hist(data['deltaPr'],bins=12, color='thistle',edgecolor='black')\n",
    "ax.set_xlabel('Weight loss, % of start weight')\n",
    "ax.set_ylabel('Number of persons')\n",
    "ax.set_title('For the whole time of participating')"
   ]
  },
  {
   "cell_type": "code",
   "execution_count": 43,
   "metadata": {},
   "outputs": [
    {
     "data": {
      "text/plain": [
       "count    156.000000\n",
       "mean       8.977707\n",
       "std        4.121352\n",
       "min        1.150895\n",
       "25%        6.518523\n",
       "50%        7.953639\n",
       "75%       10.485043\n",
       "max       27.765237\n",
       "Name: deltaPr, dtype: float64"
      ]
     },
     "execution_count": 43,
     "metadata": {},
     "output_type": "execute_result"
    }
   ],
   "source": [
    "data['deltaPr'].describe()"
   ]
  },
  {
   "cell_type": "code",
   "execution_count": 45,
   "metadata": {},
   "outputs": [
    {
     "data": {
      "text/plain": [
       "7.953639082751746"
      ]
     },
     "execution_count": 45,
     "metadata": {},
     "output_type": "execute_result"
    }
   ],
   "source": [
    "np.median(data['deltaPr'])"
   ]
  },
  {
   "cell_type": "markdown",
   "metadata": {},
   "source": [
    "**let's enjoy the best results**"
   ]
  },
  {
   "cell_type": "code",
   "execution_count": 47,
   "metadata": {},
   "outputs": [
    {
     "data": {
      "text/html": [
       "<div>\n",
       "<style scoped>\n",
       "    .dataframe tbody tr th:only-of-type {\n",
       "        vertical-align: middle;\n",
       "    }\n",
       "\n",
       "    .dataframe tbody tr th {\n",
       "        vertical-align: top;\n",
       "    }\n",
       "\n",
       "    .dataframe thead th {\n",
       "        text-align: right;\n",
       "    }\n",
       "</style>\n",
       "<table border=\"1\" class=\"dataframe\">\n",
       "  <thead>\n",
       "    <tr style=\"text-align: right;\">\n",
       "      <th></th>\n",
       "      <th>gender</th>\n",
       "      <th>age</th>\n",
       "      <th>height</th>\n",
       "      <th>weight</th>\n",
       "      <th>waist</th>\n",
       "      <th>weightF</th>\n",
       "      <th>waistF</th>\n",
       "      <th>start</th>\n",
       "      <th>delta</th>\n",
       "      <th>deltaPr</th>\n",
       "    </tr>\n",
       "    <tr>\n",
       "      <th>name</th>\n",
       "      <th></th>\n",
       "      <th></th>\n",
       "      <th></th>\n",
       "      <th></th>\n",
       "      <th></th>\n",
       "      <th></th>\n",
       "      <th></th>\n",
       "      <th></th>\n",
       "      <th></th>\n",
       "      <th></th>\n",
       "    </tr>\n",
       "  </thead>\n",
       "  <tbody>\n",
       "    <tr>\n",
       "      <th>528993913</th>\n",
       "      <td>0.0</td>\n",
       "      <td>37.0</td>\n",
       "      <td>172.0</td>\n",
       "      <td>88.6</td>\n",
       "      <td>92.0</td>\n",
       "      <td>64.0</td>\n",
       "      <td>73.0</td>\n",
       "      <td>2020-02-01</td>\n",
       "      <td>24.6</td>\n",
       "      <td>27.765237</td>\n",
       "    </tr>\n",
       "    <tr>\n",
       "      <th>1631792191</th>\n",
       "      <td>0.0</td>\n",
       "      <td>38.0</td>\n",
       "      <td>174.0</td>\n",
       "      <td>111.3</td>\n",
       "      <td>106.0</td>\n",
       "      <td>92.4</td>\n",
       "      <td>94.0</td>\n",
       "      <td>2018-07-01</td>\n",
       "      <td>18.9</td>\n",
       "      <td>16.981132</td>\n",
       "    </tr>\n",
       "    <tr>\n",
       "      <th>565306084</th>\n",
       "      <td>1.0</td>\n",
       "      <td>25.0</td>\n",
       "      <td>0.0</td>\n",
       "      <td>101.4</td>\n",
       "      <td>111.0</td>\n",
       "      <td>83.0</td>\n",
       "      <td>97.0</td>\n",
       "      <td>2019-02-01</td>\n",
       "      <td>18.4</td>\n",
       "      <td>18.145957</td>\n",
       "    </tr>\n",
       "    <tr>\n",
       "      <th>1545125454</th>\n",
       "      <td>0.0</td>\n",
       "      <td>27.0</td>\n",
       "      <td>166.0</td>\n",
       "      <td>73.3</td>\n",
       "      <td>83.5</td>\n",
       "      <td>56.3</td>\n",
       "      <td>68.0</td>\n",
       "      <td>2017-12-01</td>\n",
       "      <td>17.0</td>\n",
       "      <td>23.192360</td>\n",
       "    </tr>\n",
       "    <tr>\n",
       "      <th>1440679962</th>\n",
       "      <td>0.0</td>\n",
       "      <td>0.0</td>\n",
       "      <td>0.0</td>\n",
       "      <td>90.0</td>\n",
       "      <td>0.0</td>\n",
       "      <td>74.2</td>\n",
       "      <td>0.0</td>\n",
       "      <td>2018-03-01</td>\n",
       "      <td>15.8</td>\n",
       "      <td>17.555556</td>\n",
       "    </tr>\n",
       "    <tr>\n",
       "      <th>-1705734183</th>\n",
       "      <td>0.0</td>\n",
       "      <td>0.0</td>\n",
       "      <td>0.0</td>\n",
       "      <td>91.0</td>\n",
       "      <td>0.0</td>\n",
       "      <td>72.5</td>\n",
       "      <td>0.0</td>\n",
       "      <td>2019-01-01</td>\n",
       "      <td>18.5</td>\n",
       "      <td>20.329670</td>\n",
       "    </tr>\n",
       "  </tbody>\n",
       "</table>\n",
       "</div>"
      ],
      "text/plain": [
       "             gender   age  height  weight  waist  weightF  waistF      start  \\\n",
       "name                                                                           \n",
       " 528993913      0.0  37.0   172.0    88.6   92.0     64.0    73.0 2020-02-01   \n",
       " 1631792191     0.0  38.0   174.0   111.3  106.0     92.4    94.0 2018-07-01   \n",
       " 565306084      1.0  25.0     0.0   101.4  111.0     83.0    97.0 2019-02-01   \n",
       " 1545125454     0.0  27.0   166.0    73.3   83.5     56.3    68.0 2017-12-01   \n",
       " 1440679962     0.0   0.0     0.0    90.0    0.0     74.2     0.0 2018-03-01   \n",
       "-1705734183     0.0   0.0     0.0    91.0    0.0     72.5     0.0 2019-01-01   \n",
       "\n",
       "             delta    deltaPr  \n",
       "name                           \n",
       " 528993913    24.6  27.765237  \n",
       " 1631792191   18.9  16.981132  \n",
       " 565306084    18.4  18.145957  \n",
       " 1545125454   17.0  23.192360  \n",
       " 1440679962   15.8  17.555556  \n",
       "-1705734183   18.5  20.329670  "
      ]
     },
     "execution_count": 47,
     "metadata": {},
     "output_type": "execute_result"
    }
   ],
   "source": [
    "data[data['delta']>15]"
   ]
  },
  {
   "cell_type": "code",
   "execution_count": 48,
   "metadata": {
    "scrolled": true
   },
   "outputs": [
    {
     "data": {
      "text/html": [
       "<div>\n",
       "<style scoped>\n",
       "    .dataframe tbody tr th:only-of-type {\n",
       "        vertical-align: middle;\n",
       "    }\n",
       "\n",
       "    .dataframe tbody tr th {\n",
       "        vertical-align: top;\n",
       "    }\n",
       "\n",
       "    .dataframe thead th {\n",
       "        text-align: right;\n",
       "    }\n",
       "</style>\n",
       "<table border=\"1\" class=\"dataframe\">\n",
       "  <thead>\n",
       "    <tr style=\"text-align: right;\">\n",
       "      <th></th>\n",
       "      <th>gender</th>\n",
       "      <th>age</th>\n",
       "      <th>height</th>\n",
       "      <th>weight</th>\n",
       "      <th>waist</th>\n",
       "      <th>weightF</th>\n",
       "      <th>waistF</th>\n",
       "      <th>start</th>\n",
       "      <th>delta</th>\n",
       "      <th>deltaPr</th>\n",
       "    </tr>\n",
       "    <tr>\n",
       "      <th>name</th>\n",
       "      <th></th>\n",
       "      <th></th>\n",
       "      <th></th>\n",
       "      <th></th>\n",
       "      <th></th>\n",
       "      <th></th>\n",
       "      <th></th>\n",
       "      <th></th>\n",
       "      <th></th>\n",
       "      <th></th>\n",
       "    </tr>\n",
       "  </thead>\n",
       "  <tbody>\n",
       "    <tr>\n",
       "      <th>528993913</th>\n",
       "      <td>0.0</td>\n",
       "      <td>37.0</td>\n",
       "      <td>172.0</td>\n",
       "      <td>88.6</td>\n",
       "      <td>92.0</td>\n",
       "      <td>64.0</td>\n",
       "      <td>73.0</td>\n",
       "      <td>2020-02-01</td>\n",
       "      <td>24.6</td>\n",
       "      <td>27.765237</td>\n",
       "    </tr>\n",
       "    <tr>\n",
       "      <th>1545125454</th>\n",
       "      <td>0.0</td>\n",
       "      <td>27.0</td>\n",
       "      <td>166.0</td>\n",
       "      <td>73.3</td>\n",
       "      <td>83.5</td>\n",
       "      <td>56.3</td>\n",
       "      <td>68.0</td>\n",
       "      <td>2017-12-01</td>\n",
       "      <td>17.0</td>\n",
       "      <td>23.192360</td>\n",
       "    </tr>\n",
       "    <tr>\n",
       "      <th>-1705734183</th>\n",
       "      <td>0.0</td>\n",
       "      <td>0.0</td>\n",
       "      <td>0.0</td>\n",
       "      <td>91.0</td>\n",
       "      <td>0.0</td>\n",
       "      <td>72.5</td>\n",
       "      <td>0.0</td>\n",
       "      <td>2019-01-01</td>\n",
       "      <td>18.5</td>\n",
       "      <td>20.329670</td>\n",
       "    </tr>\n",
       "  </tbody>\n",
       "</table>\n",
       "</div>"
      ],
      "text/plain": [
       "             gender   age  height  weight  waist  weightF  waistF      start  \\\n",
       "name                                                                           \n",
       " 528993913      0.0  37.0   172.0    88.6   92.0     64.0    73.0 2020-02-01   \n",
       " 1545125454     0.0  27.0   166.0    73.3   83.5     56.3    68.0 2017-12-01   \n",
       "-1705734183     0.0   0.0     0.0    91.0    0.0     72.5     0.0 2019-01-01   \n",
       "\n",
       "             delta    deltaPr  \n",
       "name                           \n",
       " 528993913    24.6  27.765237  \n",
       " 1545125454   17.0  23.192360  \n",
       "-1705734183   18.5  20.329670  "
      ]
     },
     "execution_count": 48,
     "metadata": {},
     "output_type": "execute_result"
    }
   ],
   "source": [
    "data[data['deltaPr']>20]"
   ]
  },
  {
   "cell_type": "markdown",
   "metadata": {},
   "source": [
    "**What age are people interested in loosing weight at?**"
   ]
  },
  {
   "cell_type": "code",
   "execution_count": 51,
   "metadata": {},
   "outputs": [
    {
     "data": {
      "text/html": [
       "<div>\n",
       "<style scoped>\n",
       "    .dataframe tbody tr th:only-of-type {\n",
       "        vertical-align: middle;\n",
       "    }\n",
       "\n",
       "    .dataframe tbody tr th {\n",
       "        vertical-align: top;\n",
       "    }\n",
       "\n",
       "    .dataframe thead th {\n",
       "        text-align: right;\n",
       "    }\n",
       "</style>\n",
       "<table border=\"1\" class=\"dataframe\">\n",
       "  <thead>\n",
       "    <tr style=\"text-align: right;\">\n",
       "      <th></th>\n",
       "      <th>gender</th>\n",
       "      <th>age</th>\n",
       "      <th>height</th>\n",
       "      <th>weight</th>\n",
       "      <th>waist</th>\n",
       "      <th>weightF</th>\n",
       "      <th>waistF</th>\n",
       "      <th>delta</th>\n",
       "      <th>deltaPr</th>\n",
       "    </tr>\n",
       "  </thead>\n",
       "  <tbody>\n",
       "    <tr>\n",
       "      <th>count</th>\n",
       "      <td>95.000000</td>\n",
       "      <td>95.000000</td>\n",
       "      <td>95.000000</td>\n",
       "      <td>95.000000</td>\n",
       "      <td>95.000000</td>\n",
       "      <td>95.000000</td>\n",
       "      <td>95.000000</td>\n",
       "      <td>95.000000</td>\n",
       "      <td>95.000000</td>\n",
       "    </tr>\n",
       "    <tr>\n",
       "      <th>mean</th>\n",
       "      <td>0.042105</td>\n",
       "      <td>32.842105</td>\n",
       "      <td>151.715789</td>\n",
       "      <td>79.523684</td>\n",
       "      <td>74.984211</td>\n",
       "      <td>72.558947</td>\n",
       "      <td>69.165263</td>\n",
       "      <td>6.964737</td>\n",
       "      <td>8.622355</td>\n",
       "    </tr>\n",
       "    <tr>\n",
       "      <th>std</th>\n",
       "      <td>0.201895</td>\n",
       "      <td>7.984447</td>\n",
       "      <td>46.631572</td>\n",
       "      <td>16.670065</td>\n",
       "      <td>34.806796</td>\n",
       "      <td>15.222796</td>\n",
       "      <td>32.054740</td>\n",
       "      <td>4.104051</td>\n",
       "      <td>4.362942</td>\n",
       "    </tr>\n",
       "    <tr>\n",
       "      <th>min</th>\n",
       "      <td>0.000000</td>\n",
       "      <td>16.000000</td>\n",
       "      <td>0.000000</td>\n",
       "      <td>48.000000</td>\n",
       "      <td>0.000000</td>\n",
       "      <td>45.000000</td>\n",
       "      <td>0.000000</td>\n",
       "      <td>1.000000</td>\n",
       "      <td>1.492537</td>\n",
       "    </tr>\n",
       "    <tr>\n",
       "      <th>25%</th>\n",
       "      <td>0.000000</td>\n",
       "      <td>28.000000</td>\n",
       "      <td>160.000000</td>\n",
       "      <td>67.800000</td>\n",
       "      <td>73.500000</td>\n",
       "      <td>62.250000</td>\n",
       "      <td>67.250000</td>\n",
       "      <td>4.450000</td>\n",
       "      <td>6.272877</td>\n",
       "    </tr>\n",
       "    <tr>\n",
       "      <th>50%</th>\n",
       "      <td>0.000000</td>\n",
       "      <td>32.000000</td>\n",
       "      <td>164.000000</td>\n",
       "      <td>76.000000</td>\n",
       "      <td>84.000000</td>\n",
       "      <td>68.800000</td>\n",
       "      <td>77.000000</td>\n",
       "      <td>5.900000</td>\n",
       "      <td>7.679181</td>\n",
       "    </tr>\n",
       "    <tr>\n",
       "      <th>75%</th>\n",
       "      <td>0.000000</td>\n",
       "      <td>37.000000</td>\n",
       "      <td>167.500000</td>\n",
       "      <td>88.800000</td>\n",
       "      <td>94.500000</td>\n",
       "      <td>81.650000</td>\n",
       "      <td>88.000000</td>\n",
       "      <td>7.850000</td>\n",
       "      <td>9.556986</td>\n",
       "    </tr>\n",
       "    <tr>\n",
       "      <th>max</th>\n",
       "      <td>1.000000</td>\n",
       "      <td>63.000000</td>\n",
       "      <td>182.000000</td>\n",
       "      <td>131.850000</td>\n",
       "      <td>118.000000</td>\n",
       "      <td>121.400000</td>\n",
       "      <td>110.000000</td>\n",
       "      <td>24.600000</td>\n",
       "      <td>27.765237</td>\n",
       "    </tr>\n",
       "  </tbody>\n",
       "</table>\n",
       "</div>"
      ],
      "text/plain": [
       "          gender        age      height      weight       waist     weightF  \\\n",
       "count  95.000000  95.000000   95.000000   95.000000   95.000000   95.000000   \n",
       "mean    0.042105  32.842105  151.715789   79.523684   74.984211   72.558947   \n",
       "std     0.201895   7.984447   46.631572   16.670065   34.806796   15.222796   \n",
       "min     0.000000  16.000000    0.000000   48.000000    0.000000   45.000000   \n",
       "25%     0.000000  28.000000  160.000000   67.800000   73.500000   62.250000   \n",
       "50%     0.000000  32.000000  164.000000   76.000000   84.000000   68.800000   \n",
       "75%     0.000000  37.000000  167.500000   88.800000   94.500000   81.650000   \n",
       "max     1.000000  63.000000  182.000000  131.850000  118.000000  121.400000   \n",
       "\n",
       "           waistF      delta    deltaPr  \n",
       "count   95.000000  95.000000  95.000000  \n",
       "mean    69.165263   6.964737   8.622355  \n",
       "std     32.054740   4.104051   4.362942  \n",
       "min      0.000000   1.000000   1.492537  \n",
       "25%     67.250000   4.450000   6.272877  \n",
       "50%     77.000000   5.900000   7.679181  \n",
       "75%     88.000000   7.850000   9.556986  \n",
       "max    110.000000  24.600000  27.765237  "
      ]
     },
     "execution_count": 51,
     "metadata": {},
     "output_type": "execute_result"
    }
   ],
   "source": [
    "dataAge=data[data['age']>0]\n",
    "dataAge.describe()"
   ]
  },
  {
   "cell_type": "code",
   "execution_count": 52,
   "metadata": {},
   "outputs": [
    {
     "data": {
      "text/plain": [
       "Text(0.5, 1.0, 'For the whole time of participating')"
      ]
     },
     "execution_count": 52,
     "metadata": {},
     "output_type": "execute_result"
    },
    {
     "data": {
      "image/png": "[encoded data removed]",
      "text/plain": [
       "<Figure size 432x288 with 1 Axes>"
      ]
     },
     "metadata": {
      "needs_background": "light"
     },
     "output_type": "display_data"
    }
   ],
   "source": [
    "_, ax = plt.subplots()\n",
    "ax.hist(dataAge['age'],bins=12, color='thistle',edgecolor='black')\n",
    "ax.set_xlabel('Age, years')\n",
    "ax.set_ylabel('Number of persons')\n",
    "ax.set_title('For the whole time of participating')"
   ]
  },
  {
   "cell_type": "code",
   "execution_count": 53,
   "metadata": {},
   "outputs": [
    {
     "data": {
      "text/plain": [
       "count    95.000000\n",
       "mean     32.842105\n",
       "std       7.984447\n",
       "min      16.000000\n",
       "25%      28.000000\n",
       "50%      32.000000\n",
       "75%      37.000000\n",
       "max      63.000000\n",
       "Name: age, dtype: float64"
      ]
     },
     "execution_count": 53,
     "metadata": {},
     "output_type": "execute_result"
    }
   ],
   "source": [
    "dataAge.age.describe()"
   ]
  },
  {
   "cell_type": "code",
   "execution_count": 56,
   "metadata": {},
   "outputs": [
    {
     "data": {
      "text/plain": [
       "32.0"
      ]
     },
     "execution_count": 56,
     "metadata": {},
     "output_type": "execute_result"
    }
   ],
   "source": [
    "np.median(dataAge.age)"
   ]
  },
  {
   "cell_type": "markdown",
   "metadata": {},
   "source": [
    "**I am very impressed by results by the most mature persons**"
   ]
  },
  {
   "cell_type": "code",
   "execution_count": 57,
   "metadata": {},
   "outputs": [
    {
     "data": {
      "text/html": [
       "<div>\n",
       "<style scoped>\n",
       "    .dataframe tbody tr th:only-of-type {\n",
       "        vertical-align: middle;\n",
       "    }\n",
       "\n",
       "    .dataframe tbody tr th {\n",
       "        vertical-align: top;\n",
       "    }\n",
       "\n",
       "    .dataframe thead th {\n",
       "        text-align: right;\n",
       "    }\n",
       "</style>\n",
       "<table border=\"1\" class=\"dataframe\">\n",
       "  <thead>\n",
       "    <tr style=\"text-align: right;\">\n",
       "      <th></th>\n",
       "      <th>gender</th>\n",
       "      <th>age</th>\n",
       "      <th>height</th>\n",
       "      <th>weight</th>\n",
       "      <th>waist</th>\n",
       "      <th>weightF</th>\n",
       "      <th>waistF</th>\n",
       "      <th>start</th>\n",
       "      <th>delta</th>\n",
       "      <th>deltaPr</th>\n",
       "    </tr>\n",
       "    <tr>\n",
       "      <th>name</th>\n",
       "      <th></th>\n",
       "      <th></th>\n",
       "      <th></th>\n",
       "      <th></th>\n",
       "      <th></th>\n",
       "      <th></th>\n",
       "      <th></th>\n",
       "      <th></th>\n",
       "      <th></th>\n",
       "      <th></th>\n",
       "    </tr>\n",
       "  </thead>\n",
       "  <tbody>\n",
       "    <tr>\n",
       "      <th>508347948</th>\n",
       "      <td>0.0</td>\n",
       "      <td>63.0</td>\n",
       "      <td>0.0</td>\n",
       "      <td>81.0</td>\n",
       "      <td>104.0</td>\n",
       "      <td>67.5</td>\n",
       "      <td>89.0</td>\n",
       "      <td>2019-05-01</td>\n",
       "      <td>13.5</td>\n",
       "      <td>16.666667</td>\n",
       "    </tr>\n",
       "    <tr>\n",
       "      <th>-162402000</th>\n",
       "      <td>0.0</td>\n",
       "      <td>62.0</td>\n",
       "      <td>156.0</td>\n",
       "      <td>80.0</td>\n",
       "      <td>0.0</td>\n",
       "      <td>73.1</td>\n",
       "      <td>91.0</td>\n",
       "      <td>2019-01-01</td>\n",
       "      <td>6.9</td>\n",
       "      <td>8.625000</td>\n",
       "    </tr>\n",
       "  </tbody>\n",
       "</table>\n",
       "</div>"
      ],
      "text/plain": [
       "            gender   age  height  weight  waist  weightF  waistF      start  \\\n",
       "name                                                                          \n",
       " 508347948     0.0  63.0     0.0    81.0  104.0     67.5    89.0 2019-05-01   \n",
       "-162402000     0.0  62.0   156.0    80.0    0.0     73.1    91.0 2019-01-01   \n",
       "\n",
       "            delta    deltaPr  \n",
       "name                          \n",
       " 508347948   13.5  16.666667  \n",
       "-162402000    6.9   8.625000  "
      ]
     },
     "execution_count": 57,
     "metadata": {},
     "output_type": "execute_result"
    }
   ],
   "source": [
    "dataAge[dataAge['age']>60]"
   ]
  },
  {
   "cell_type": "markdown",
   "metadata": {},
   "source": [
    "**The youngest ones are successful as well**"
   ]
  },
  {
   "cell_type": "code",
   "execution_count": 58,
   "metadata": {
    "scrolled": true
   },
   "outputs": [
    {
     "data": {
      "text/html": [
       "<div>\n",
       "<style scoped>\n",
       "    .dataframe tbody tr th:only-of-type {\n",
       "        vertical-align: middle;\n",
       "    }\n",
       "\n",
       "    .dataframe tbody tr th {\n",
       "        vertical-align: top;\n",
       "    }\n",
       "\n",
       "    .dataframe thead th {\n",
       "        text-align: right;\n",
       "    }\n",
       "</style>\n",
       "<table border=\"1\" class=\"dataframe\">\n",
       "  <thead>\n",
       "    <tr style=\"text-align: right;\">\n",
       "      <th></th>\n",
       "      <th>gender</th>\n",
       "      <th>age</th>\n",
       "      <th>height</th>\n",
       "      <th>weight</th>\n",
       "      <th>waist</th>\n",
       "      <th>weightF</th>\n",
       "      <th>waistF</th>\n",
       "      <th>start</th>\n",
       "      <th>delta</th>\n",
       "      <th>deltaPr</th>\n",
       "    </tr>\n",
       "    <tr>\n",
       "      <th>name</th>\n",
       "      <th></th>\n",
       "      <th></th>\n",
       "      <th></th>\n",
       "      <th></th>\n",
       "      <th></th>\n",
       "      <th></th>\n",
       "      <th></th>\n",
       "      <th></th>\n",
       "      <th></th>\n",
       "      <th></th>\n",
       "    </tr>\n",
       "  </thead>\n",
       "  <tbody>\n",
       "    <tr>\n",
       "      <th>1161034842</th>\n",
       "      <td>0.0</td>\n",
       "      <td>16.0</td>\n",
       "      <td>177.0</td>\n",
       "      <td>72.0</td>\n",
       "      <td>74.0</td>\n",
       "      <td>66.6</td>\n",
       "      <td>67.0</td>\n",
       "      <td>2018-07-01</td>\n",
       "      <td>5.4</td>\n",
       "      <td>7.500000</td>\n",
       "    </tr>\n",
       "    <tr>\n",
       "      <th>1598332489</th>\n",
       "      <td>0.0</td>\n",
       "      <td>16.0</td>\n",
       "      <td>171.0</td>\n",
       "      <td>67.6</td>\n",
       "      <td>78.0</td>\n",
       "      <td>61.8</td>\n",
       "      <td>72.0</td>\n",
       "      <td>2020-05-01</td>\n",
       "      <td>5.8</td>\n",
       "      <td>8.579882</td>\n",
       "    </tr>\n",
       "  </tbody>\n",
       "</table>\n",
       "</div>"
      ],
      "text/plain": [
       "            gender   age  height  weight  waist  weightF  waistF      start  \\\n",
       "name                                                                          \n",
       "1161034842     0.0  16.0   177.0    72.0   74.0     66.6    67.0 2018-07-01   \n",
       "1598332489     0.0  16.0   171.0    67.6   78.0     61.8    72.0 2020-05-01   \n",
       "\n",
       "            delta   deltaPr  \n",
       "name                         \n",
       "1161034842    5.4  7.500000  \n",
       "1598332489    5.8  8.579882  "
      ]
     },
     "execution_count": 58,
     "metadata": {},
     "output_type": "execute_result"
    }
   ],
   "source": [
    "dataAge[dataAge['age']<17]"
   ]
  },
  {
   "cell_type": "markdown",
   "metadata": {},
   "source": [
    "https://en.wikipedia.org/wiki/Body_mass_index  \n",
    "**BMI(Body mass index) is often used to roughly estimate how fat the body is**"
   ]
  },
  {
   "cell_type": "code",
   "execution_count": 59,
   "metadata": {},
   "outputs": [],
   "source": [
    "dataH=data[data['height']>0]"
   ]
  },
  {
   "cell_type": "code",
   "execution_count": 67,
   "metadata": {},
   "outputs": [],
   "source": [
    "dataH.loc[:,'BMI']=dataH.loc[:,'weight']/(dataH.loc[:,'height']/100)**2"
   ]
  },
  {
   "cell_type": "code",
   "execution_count": 68,
   "metadata": {},
   "outputs": [],
   "source": [
    "dataH.loc[:,'BMIF']=dataH.loc[:,'weightF']/(dataH.loc[:,'height']/100)**2"
   ]
  },
  {
   "cell_type": "code",
   "execution_count": 69,
   "metadata": {},
   "outputs": [
    {
     "data": {
      "text/html": [
       "<div>\n",
       "<style scoped>\n",
       "    .dataframe tbody tr th:only-of-type {\n",
       "        vertical-align: middle;\n",
       "    }\n",
       "\n",
       "    .dataframe tbody tr th {\n",
       "        vertical-align: top;\n",
       "    }\n",
       "\n",
       "    .dataframe thead th {\n",
       "        text-align: right;\n",
       "    }\n",
       "</style>\n",
       "<table border=\"1\" class=\"dataframe\">\n",
       "  <thead>\n",
       "    <tr style=\"text-align: right;\">\n",
       "      <th></th>\n",
       "      <th>gender</th>\n",
       "      <th>age</th>\n",
       "      <th>height</th>\n",
       "      <th>weight</th>\n",
       "      <th>waist</th>\n",
       "      <th>weightF</th>\n",
       "      <th>waistF</th>\n",
       "      <th>delta</th>\n",
       "      <th>deltaPr</th>\n",
       "      <th>BMI</th>\n",
       "      <th>BMIF</th>\n",
       "    </tr>\n",
       "  </thead>\n",
       "  <tbody>\n",
       "    <tr>\n",
       "      <th>count</th>\n",
       "      <td>87.000000</td>\n",
       "      <td>87.000000</td>\n",
       "      <td>87.000000</td>\n",
       "      <td>87.000000</td>\n",
       "      <td>87.000000</td>\n",
       "      <td>87.000000</td>\n",
       "      <td>87.000000</td>\n",
       "      <td>87.000000</td>\n",
       "      <td>87.000000</td>\n",
       "      <td>87.000000</td>\n",
       "      <td>87.000000</td>\n",
       "    </tr>\n",
       "    <tr>\n",
       "      <th>mean</th>\n",
       "      <td>0.034483</td>\n",
       "      <td>32.540230</td>\n",
       "      <td>165.666667</td>\n",
       "      <td>79.127011</td>\n",
       "      <td>72.626437</td>\n",
       "      <td>72.340230</td>\n",
       "      <td>67.157471</td>\n",
       "      <td>6.786782</td>\n",
       "      <td>8.451199</td>\n",
       "      <td>28.722483</td>\n",
       "      <td>26.272670</td>\n",
       "    </tr>\n",
       "    <tr>\n",
       "      <th>std</th>\n",
       "      <td>0.183523</td>\n",
       "      <td>7.515572</td>\n",
       "      <td>6.221992</td>\n",
       "      <td>16.667040</td>\n",
       "      <td>35.306154</td>\n",
       "      <td>15.271812</td>\n",
       "      <td>32.680417</td>\n",
       "      <td>4.028745</td>\n",
       "      <td>4.335157</td>\n",
       "      <td>5.203904</td>\n",
       "      <td>4.839568</td>\n",
       "    </tr>\n",
       "    <tr>\n",
       "      <th>min</th>\n",
       "      <td>0.000000</td>\n",
       "      <td>16.000000</td>\n",
       "      <td>147.000000</td>\n",
       "      <td>48.000000</td>\n",
       "      <td>0.000000</td>\n",
       "      <td>45.000000</td>\n",
       "      <td>0.000000</td>\n",
       "      <td>1.000000</td>\n",
       "      <td>1.492537</td>\n",
       "      <td>18.750000</td>\n",
       "      <td>17.578125</td>\n",
       "    </tr>\n",
       "    <tr>\n",
       "      <th>25%</th>\n",
       "      <td>0.000000</td>\n",
       "      <td>28.000000</td>\n",
       "      <td>162.000000</td>\n",
       "      <td>67.550000</td>\n",
       "      <td>71.500000</td>\n",
       "      <td>62.250000</td>\n",
       "      <td>67.000000</td>\n",
       "      <td>4.400000</td>\n",
       "      <td>6.166145</td>\n",
       "      <td>24.716178</td>\n",
       "      <td>22.653895</td>\n",
       "    </tr>\n",
       "    <tr>\n",
       "      <th>50%</th>\n",
       "      <td>0.000000</td>\n",
       "      <td>32.000000</td>\n",
       "      <td>165.000000</td>\n",
       "      <td>76.000000</td>\n",
       "      <td>83.000000</td>\n",
       "      <td>69.000000</td>\n",
       "      <td>76.000000</td>\n",
       "      <td>5.700000</td>\n",
       "      <td>7.563025</td>\n",
       "      <td>27.639801</td>\n",
       "      <td>25.529779</td>\n",
       "    </tr>\n",
       "    <tr>\n",
       "      <th>75%</th>\n",
       "      <td>0.000000</td>\n",
       "      <td>37.000000</td>\n",
       "      <td>170.000000</td>\n",
       "      <td>88.100000</td>\n",
       "      <td>93.000000</td>\n",
       "      <td>81.100000</td>\n",
       "      <td>86.000000</td>\n",
       "      <td>7.650000</td>\n",
       "      <td>9.453823</td>\n",
       "      <td>31.419970</td>\n",
       "      <td>28.969463</td>\n",
       "    </tr>\n",
       "    <tr>\n",
       "      <th>max</th>\n",
       "      <td>1.000000</td>\n",
       "      <td>62.000000</td>\n",
       "      <td>182.000000</td>\n",
       "      <td>131.850000</td>\n",
       "      <td>118.000000</td>\n",
       "      <td>121.400000</td>\n",
       "      <td>110.000000</td>\n",
       "      <td>24.600000</td>\n",
       "      <td>27.765237</td>\n",
       "      <td>42.085608</td>\n",
       "      <td>40.138408</td>\n",
       "    </tr>\n",
       "  </tbody>\n",
       "</table>\n",
       "</div>"
      ],
      "text/plain": [
       "          gender        age      height      weight       waist     weightF  \\\n",
       "count  87.000000  87.000000   87.000000   87.000000   87.000000   87.000000   \n",
       "mean    0.034483  32.540230  165.666667   79.127011   72.626437   72.340230   \n",
       "std     0.183523   7.515572    6.221992   16.667040   35.306154   15.271812   \n",
       "min     0.000000  16.000000  147.000000   48.000000    0.000000   45.000000   \n",
       "25%     0.000000  28.000000  162.000000   67.550000   71.500000   62.250000   \n",
       "50%     0.000000  32.000000  165.000000   76.000000   83.000000   69.000000   \n",
       "75%     0.000000  37.000000  170.000000   88.100000   93.000000   81.100000   \n",
       "max     1.000000  62.000000  182.000000  131.850000  118.000000  121.400000   \n",
       "\n",
       "           waistF      delta    deltaPr        BMI       BMIF  \n",
       "count   87.000000  87.000000  87.000000  87.000000  87.000000  \n",
       "mean    67.157471   6.786782   8.451199  28.722483  26.272670  \n",
       "std     32.680417   4.028745   4.335157   5.203904   4.839568  \n",
       "min      0.000000   1.000000   1.492537  18.750000  17.578125  \n",
       "25%     67.000000   4.400000   6.166145  24.716178  22.653895  \n",
       "50%     76.000000   5.700000   7.563025  27.639801  25.529779  \n",
       "75%     86.000000   7.650000   9.453823  31.419970  28.969463  \n",
       "max    110.000000  24.600000  27.765237  42.085608  40.138408  "
      ]
     },
     "execution_count": 69,
     "metadata": {},
     "output_type": "execute_result"
    }
   ],
   "source": [
    "dataH.describe()"
   ]
  },
  {
   "cell_type": "code",
   "execution_count": 71,
   "metadata": {},
   "outputs": [
    {
     "data": {
      "text/plain": [
       "count    87.000000\n",
       "mean     28.722483\n",
       "std       5.203904\n",
       "min      18.750000\n",
       "25%      24.716178\n",
       "50%      27.639801\n",
       "75%      31.419970\n",
       "max      42.085608\n",
       "Name: BMI, dtype: float64"
      ]
     },
     "execution_count": 71,
     "metadata": {},
     "output_type": "execute_result"
    }
   ],
   "source": [
    "dataH['BMI'].describe()"
   ]
  },
  {
   "cell_type": "code",
   "execution_count": 72,
   "metadata": {},
   "outputs": [
    {
     "data": {
      "text/plain": [
       "27.639801313892"
      ]
     },
     "execution_count": 72,
     "metadata": {},
     "output_type": "execute_result"
    }
   ],
   "source": [
    "np.median(dataH['BMI'])"
   ]
  },
  {
   "cell_type": "code",
   "execution_count": 73,
   "metadata": {},
   "outputs": [
    {
     "data": {
      "text/plain": [
       "count    87.000000\n",
       "mean     26.272670\n",
       "std       4.839568\n",
       "min      17.578125\n",
       "25%      22.653895\n",
       "50%      25.529779\n",
       "75%      28.969463\n",
       "max      40.138408\n",
       "Name: BMIF, dtype: float64"
      ]
     },
     "execution_count": 73,
     "metadata": {},
     "output_type": "execute_result"
    }
   ],
   "source": [
    "dataH['BMIF'].describe()"
   ]
  },
  {
   "cell_type": "code",
   "execution_count": 74,
   "metadata": {},
   "outputs": [
    {
     "data": {
      "text/plain": [
       "25.52977876582165"
      ]
     },
     "execution_count": 74,
     "metadata": {},
     "output_type": "execute_result"
    }
   ],
   "source": [
    "np.median(dataH['BMIF'])"
   ]
  },
  {
   "cell_type": "markdown",
   "metadata": {},
   "source": [
    "**let's combine on one plot BMI before (thristle) and after (lightblue)**"
   ]
  },
  {
   "cell_type": "code",
   "execution_count": 90,
   "metadata": {},
   "outputs": [
    {
     "data": {
      "text/plain": [
       "Text(0.5, 1.0, 'Body mass index distribution')"
      ]
     },
     "execution_count": 90,
     "metadata": {},
     "output_type": "execute_result"
    },
    {
     "data": {
      "image/png": "[encoded data removed]",
      "text/plain": [
       "<Figure size 432x288 with 1 Axes>"
      ]
     },
     "metadata": {
      "needs_background": "light"
     },
     "output_type": "display_data"
    }
   ],
   "source": [
    "_, ax = plt.subplots()\n",
    "\n",
    "ax.hist(dataH['BMI'],bins=6, color='thistle',edgecolor='black', alpha=0.5)\n",
    "ax.hist(dataH['BMIF'],bins=6, color='lightblue',edgecolor='black', alpha=0.5)\n",
    "ax.set_xlabel('Body mass index')\n",
    "ax.set_ylabel('Number of persons')\n",
    "ax.set_title('Body mass index distribution')"
   ]
  },
  {
   "cell_type": "markdown",
   "metadata": {},
   "source": [
    "**Show relation between number of person with normal BMI and overweight BMI on pie chart**"
   ]
  },
  {
   "cell_type": "code",
   "execution_count": 95,
   "metadata": {},
   "outputs": [
    {
     "data": {
      "text/plain": [
       "Text(0.5, 1.0, 'Before')"
      ]
     },
     "execution_count": 95,
     "metadata": {},
     "output_type": "execute_result"
    },
    {
     "data": {
      "image/png": "[encoded data removed]",
      "text/plain": [
       "<Figure size 432x288 with 1 Axes>"
      ]
     },
     "metadata": {},
     "output_type": "display_data"
    }
   ],
   "source": [
    "vals = [dataH[dataH['BMI']>25]['BMI'].count(), dataH[dataH['BMI']<=25]['BMI'].count()]\n",
    "labels = [\"Overweight\", \"Normal weight\"]\n",
    "fig, ax = plt.subplots()\n",
    "ax.pie(vals, labels=labels, startangle=90, colors=['thistle','lightblue'])\n",
    "ax.set_title('Before')\n"
   ]
  },
  {
   "cell_type": "code",
   "execution_count": 96,
   "metadata": {},
   "outputs": [
    {
     "data": {
      "text/plain": [
       "Text(0.5, 1.0, 'After')"
      ]
     },
     "execution_count": 96,
     "metadata": {},
     "output_type": "execute_result"
    },
    {
     "data": {
      "image/png": "[encoded data removed]",
      "text/plain": [
       "<Figure size 432x288 with 1 Axes>"
      ]
     },
     "metadata": {},
     "output_type": "display_data"
    }
   ],
   "source": [
    "vals = [dataH[dataH['BMIF']>25]['BMIF'].count(), dataH[dataH['BMIF']<=25]['BMIF'].count()]\n",
    "labels = [\"Overweight\", \"Normal weight\"]\n",
    "fig, ax = plt.subplots()\n",
    "ax.pie(vals, labels=labels, startangle=90, colors=['thistle','lightblue'])\n",
    "ax.set_title('After')"
   ]
  },
  {
   "cell_type": "code",
   "execution_count": 97,
   "metadata": {},
   "outputs": [
    {
     "data": {
      "text/html": [
       "<div>\n",
       "<style scoped>\n",
       "    .dataframe tbody tr th:only-of-type {\n",
       "        vertical-align: middle;\n",
       "    }\n",
       "\n",
       "    .dataframe tbody tr th {\n",
       "        vertical-align: top;\n",
       "    }\n",
       "\n",
       "    .dataframe thead th {\n",
       "        text-align: right;\n",
       "    }\n",
       "</style>\n",
       "<table border=\"1\" class=\"dataframe\">\n",
       "  <thead>\n",
       "    <tr style=\"text-align: right;\">\n",
       "      <th></th>\n",
       "      <th>gender</th>\n",
       "      <th>age</th>\n",
       "      <th>height</th>\n",
       "      <th>weight</th>\n",
       "      <th>waist</th>\n",
       "      <th>weightF</th>\n",
       "      <th>waistF</th>\n",
       "      <th>delta</th>\n",
       "      <th>deltaPr</th>\n",
       "    </tr>\n",
       "  </thead>\n",
       "  <tbody>\n",
       "    <tr>\n",
       "      <th>count</th>\n",
       "      <td>79.000000</td>\n",
       "      <td>79.000000</td>\n",
       "      <td>79.000000</td>\n",
       "      <td>79.000000</td>\n",
       "      <td>79.000000</td>\n",
       "      <td>79.000000</td>\n",
       "      <td>79.000000</td>\n",
       "      <td>79.000000</td>\n",
       "      <td>79.000000</td>\n",
       "    </tr>\n",
       "    <tr>\n",
       "      <th>mean</th>\n",
       "      <td>0.050633</td>\n",
       "      <td>32.518987</td>\n",
       "      <td>146.721519</td>\n",
       "      <td>79.115823</td>\n",
       "      <td>89.360759</td>\n",
       "      <td>72.470886</td>\n",
       "      <td>82.312658</td>\n",
       "      <td>6.644937</td>\n",
       "      <td>8.266168</td>\n",
       "    </tr>\n",
       "    <tr>\n",
       "      <th>std</th>\n",
       "      <td>0.220648</td>\n",
       "      <td>8.658567</td>\n",
       "      <td>53.253852</td>\n",
       "      <td>16.950491</td>\n",
       "      <td>13.168517</td>\n",
       "      <td>15.552312</td>\n",
       "      <td>11.942849</td>\n",
       "      <td>4.141431</td>\n",
       "      <td>4.380932</td>\n",
       "    </tr>\n",
       "    <tr>\n",
       "      <th>min</th>\n",
       "      <td>0.000000</td>\n",
       "      <td>0.000000</td>\n",
       "      <td>0.000000</td>\n",
       "      <td>48.000000</td>\n",
       "      <td>64.000000</td>\n",
       "      <td>45.000000</td>\n",
       "      <td>59.000000</td>\n",
       "      <td>1.000000</td>\n",
       "      <td>1.492537</td>\n",
       "    </tr>\n",
       "    <tr>\n",
       "      <th>25%</th>\n",
       "      <td>0.000000</td>\n",
       "      <td>28.000000</td>\n",
       "      <td>160.000000</td>\n",
       "      <td>67.150000</td>\n",
       "      <td>78.500000</td>\n",
       "      <td>61.750000</td>\n",
       "      <td>73.500000</td>\n",
       "      <td>4.300000</td>\n",
       "      <td>5.957812</td>\n",
       "    </tr>\n",
       "    <tr>\n",
       "      <th>50%</th>\n",
       "      <td>0.000000</td>\n",
       "      <td>32.000000</td>\n",
       "      <td>164.000000</td>\n",
       "      <td>76.000000</td>\n",
       "      <td>88.000000</td>\n",
       "      <td>68.800000</td>\n",
       "      <td>81.000000</td>\n",
       "      <td>5.700000</td>\n",
       "      <td>7.563025</td>\n",
       "    </tr>\n",
       "    <tr>\n",
       "      <th>75%</th>\n",
       "      <td>0.000000</td>\n",
       "      <td>37.000000</td>\n",
       "      <td>167.500000</td>\n",
       "      <td>88.800000</td>\n",
       "      <td>96.500000</td>\n",
       "      <td>82.250000</td>\n",
       "      <td>90.000000</td>\n",
       "      <td>7.500000</td>\n",
       "      <td>9.008987</td>\n",
       "    </tr>\n",
       "    <tr>\n",
       "      <th>max</th>\n",
       "      <td>1.000000</td>\n",
       "      <td>63.000000</td>\n",
       "      <td>182.000000</td>\n",
       "      <td>131.850000</td>\n",
       "      <td>118.000000</td>\n",
       "      <td>121.400000</td>\n",
       "      <td>110.000000</td>\n",
       "      <td>24.600000</td>\n",
       "      <td>27.765237</td>\n",
       "    </tr>\n",
       "  </tbody>\n",
       "</table>\n",
       "</div>"
      ],
      "text/plain": [
       "          gender        age      height      weight       waist     weightF  \\\n",
       "count  79.000000  79.000000   79.000000   79.000000   79.000000   79.000000   \n",
       "mean    0.050633  32.518987  146.721519   79.115823   89.360759   72.470886   \n",
       "std     0.220648   8.658567   53.253852   16.950491   13.168517   15.552312   \n",
       "min     0.000000   0.000000    0.000000   48.000000   64.000000   45.000000   \n",
       "25%     0.000000  28.000000  160.000000   67.150000   78.500000   61.750000   \n",
       "50%     0.000000  32.000000  164.000000   76.000000   88.000000   68.800000   \n",
       "75%     0.000000  37.000000  167.500000   88.800000   96.500000   82.250000   \n",
       "max     1.000000  63.000000  182.000000  131.850000  118.000000  121.400000   \n",
       "\n",
       "           waistF      delta    deltaPr  \n",
       "count   79.000000  79.000000  79.000000  \n",
       "mean    82.312658   6.644937   8.266168  \n",
       "std     11.942849   4.141431   4.380932  \n",
       "min     59.000000   1.000000   1.492537  \n",
       "25%     73.500000   4.300000   5.957812  \n",
       "50%     81.000000   5.700000   7.563025  \n",
       "75%     90.000000   7.500000   9.008987  \n",
       "max    110.000000  24.600000  27.765237  "
      ]
     },
     "execution_count": 97,
     "metadata": {},
     "output_type": "execute_result"
    }
   ],
   "source": [
    "dataW=data[data['waist']>0]\n",
    "dataW=dataW[dataW['waistF']>0]\n",
    "dataW.describe()"
   ]
  },
  {
   "cell_type": "code",
   "execution_count": 98,
   "metadata": {},
   "outputs": [],
   "source": [
    "dataW['deltaW']=dataW['waist']-dataW['waistF']"
   ]
  },
  {
   "cell_type": "code",
   "execution_count": 99,
   "metadata": {},
   "outputs": [
    {
     "data": {
      "text/plain": [
       "Text(0.5, 1.0, 'For the whole time of participating')"
      ]
     },
     "execution_count": 99,
     "metadata": {},
     "output_type": "execute_result"
    },
    {
     "data": {
      "image/png": "[encoded data removed]",
      "text/plain": [
       "<Figure size 432x288 with 1 Axes>"
      ]
     },
     "metadata": {
      "needs_background": "light"
     },
     "output_type": "display_data"
    }
   ],
   "source": [
    "_, ax = plt.subplots()\n",
    "ax.hist(dataW['deltaW'],bins=8, color='thistle',edgecolor='black')\n",
    "ax.set_xlabel('Waist size decreasing')\n",
    "ax.set_ylabel('Number of persons')\n",
    "ax.set_title('For the whole time of participating')\n"
   ]
  },
  {
   "cell_type": "code",
   "execution_count": 100,
   "metadata": {},
   "outputs": [
    {
     "data": {
      "text/plain": [
       "count    79.000000\n",
       "mean      7.048101\n",
       "std       4.004896\n",
       "min      -1.000000\n",
       "25%       5.000000\n",
       "50%       6.500000\n",
       "75%       9.000000\n",
       "max      19.000000\n",
       "Name: deltaW, dtype: float64"
      ]
     },
     "execution_count": 100,
     "metadata": {},
     "output_type": "execute_result"
    }
   ],
   "source": [
    "dataW['deltaW'].describe()"
   ]
  },
  {
   "cell_type": "code",
   "execution_count": 101,
   "metadata": {},
   "outputs": [
    {
     "data": {
      "text/plain": [
       "6.5"
      ]
     },
     "execution_count": 101,
     "metadata": {},
     "output_type": "execute_result"
    }
   ],
   "source": [
    "np.median(dataW['deltaW'])"
   ]
  },
  {
   "cell_type": "code",
   "execution_count": 102,
   "metadata": {},
   "outputs": [],
   "source": [
    "dataW['deltaWPr']=dataW['deltaW']/dataW['waist']*100"
   ]
  },
  {
   "cell_type": "code",
   "execution_count": 103,
   "metadata": {},
   "outputs": [
    {
     "data": {
      "text/plain": [
       "Text(0.5, 1.0, 'For the whole time of participating')"
      ]
     },
     "execution_count": 103,
     "metadata": {},
     "output_type": "execute_result"
    },
    {
     "data": {
      "image/png": "[encoded data removed]",
      "text/plain": [
       "<Figure size 432x288 with 1 Axes>"
      ]
     },
     "metadata": {
      "needs_background": "light"
     },
     "output_type": "display_data"
    }
   ],
   "source": [
    "_, ax = plt.subplots()\n",
    "ax.hist(dataW['deltaWPr'],bins=8, color='thistle',edgecolor='black')\n",
    "ax.set_xlabel('Waist size decreasing, % of start one')\n",
    "ax.set_ylabel('Number of persons')\n",
    "ax.set_title('For the whole time of participating')\n"
   ]
  },
  {
   "cell_type": "code",
   "execution_count": 104,
   "metadata": {},
   "outputs": [
    {
     "data": {
      "text/plain": [
       "count    79.000000\n",
       "mean      7.755242\n",
       "std       4.016339\n",
       "min      -1.123596\n",
       "25%       5.730706\n",
       "50%       7.526882\n",
       "75%       9.782609\n",
       "max      20.652174\n",
       "Name: deltaWPr, dtype: float64"
      ]
     },
     "execution_count": 104,
     "metadata": {},
     "output_type": "execute_result"
    }
   ],
   "source": [
    "dataW['deltaWPr'].describe()"
   ]
  },
  {
   "cell_type": "code",
   "execution_count": 105,
   "metadata": {},
   "outputs": [
    {
     "data": {
      "text/plain": [
       "7.526881720430108"
      ]
     },
     "execution_count": 105,
     "metadata": {},
     "output_type": "execute_result"
    }
   ],
   "source": [
    "np.median(dataW['deltaWPr'])"
   ]
  },
  {
   "cell_type": "code",
   "execution_count": 107,
   "metadata": {},
   "outputs": [],
   "source": [
    "dataW=dataW[dataW['height']>0]"
   ]
  },
  {
   "cell_type": "code",
   "execution_count": 110,
   "metadata": {},
   "outputs": [],
   "source": [
    "dataW.loc[:,'WH']=dataW['waist']/dataW['height']"
   ]
  },
  {
   "cell_type": "code",
   "execution_count": 112,
   "metadata": {},
   "outputs": [],
   "source": [
    "dataW.loc[:,'WHF']=dataW['waistF']/dataW['height']"
   ]
  },
  {
   "cell_type": "code",
   "execution_count": 113,
   "metadata": {},
   "outputs": [
    {
     "data": {
      "text/plain": [
       "Text(0.5, 1.0, 'Waist-to-height ratio distribution')"
      ]
     },
     "execution_count": 113,
     "metadata": {},
     "output_type": "execute_result"
    },
    {
     "data": {
      "image/png": "[encoded data removed]",
      "text/plain": [
       "<Figure size 432x288 with 1 Axes>"
      ]
     },
     "metadata": {
      "needs_background": "light"
     },
     "output_type": "display_data"
    }
   ],
   "source": [
    "_, ax = plt.subplots()\n",
    "\n",
    "ax.hist(dataW['WH'],bins=6, color='thistle',edgecolor='black', alpha=0.5)\n",
    "ax.hist(dataW['WHF'],bins=6, color='lightblue',edgecolor='black', alpha=0.5)\n",
    "ax.set_xlabel('Waist-to-height ratio')\n",
    "ax.set_ylabel('Number of persons')\n",
    "ax.set_title('Waist-to-height ratio distribution')"
   ]
  },
  {
   "cell_type": "code",
   "execution_count": 114,
   "metadata": {},
   "outputs": [
    {
     "data": {
      "text/plain": [
       "count    70.000000\n",
       "mean      0.530980\n",
       "std       0.072833\n",
       "min       0.387879\n",
       "25%       0.479323\n",
       "50%       0.527711\n",
       "75%       0.576265\n",
       "max       0.706587\n",
       "Name: WH, dtype: float64"
      ]
     },
     "execution_count": 114,
     "metadata": {},
     "output_type": "execute_result"
    }
   ],
   "source": [
    "dataW['WH'].describe()"
   ]
  },
  {
   "cell_type": "code",
   "execution_count": 115,
   "metadata": {},
   "outputs": [
    {
     "data": {
      "text/plain": [
       "0.5277114190157668"
      ]
     },
     "execution_count": 115,
     "metadata": {},
     "output_type": "execute_result"
    }
   ],
   "source": [
    "np.median(dataW['WH'])"
   ]
  },
  {
   "cell_type": "code",
   "execution_count": 116,
   "metadata": {},
   "outputs": [
    {
     "data": {
      "text/plain": [
       "count    70.000000\n",
       "mean      0.490266\n",
       "std       0.068031\n",
       "min       0.368750\n",
       "25%       0.446021\n",
       "50%       0.478157\n",
       "75%       0.536160\n",
       "max       0.658683\n",
       "Name: WHF, dtype: float64"
      ]
     },
     "execution_count": 116,
     "metadata": {},
     "output_type": "execute_result"
    }
   ],
   "source": [
    "dataW['WHF'].describe()"
   ]
  },
  {
   "cell_type": "code",
   "execution_count": 117,
   "metadata": {},
   "outputs": [
    {
     "data": {
      "text/plain": [
       "0.478157321720196"
      ]
     },
     "execution_count": 117,
     "metadata": {},
     "output_type": "execute_result"
    }
   ],
   "source": [
    "np.median(dataW['WHF'])"
   ]
  },
  {
   "cell_type": "code",
   "execution_count": 120,
   "metadata": {},
   "outputs": [],
   "source": [
    "dataW.loc[:,'WHOk']=(dataW['WH']<0.48+0.4*dataW['gender'])"
   ]
  },
  {
   "cell_type": "code",
   "execution_count": 124,
   "metadata": {},
   "outputs": [],
   "source": [
    "dataW.loc[:,'WHOkF']=(dataW['WHF']<0.48+0.4*dataW['gender'])"
   ]
  },
  {
   "cell_type": "code",
   "execution_count": 129,
   "metadata": {},
   "outputs": [
    {
     "data": {
      "text/plain": [
       "Text(0.5, 1.0, 'Before')"
      ]
     },
     "execution_count": 129,
     "metadata": {},
     "output_type": "execute_result"
    },
    {
     "data": {
      "image/png": "[encoded data removed]",
      "text/plain": [
       "<Figure size 432x288 with 1 Axes>"
      ]
     },
     "metadata": {},
     "output_type": "display_data"
    }
   ],
   "source": [
    "vals = [dataW[dataW['WHOk']==0]['WHOk'].count(), dataW[dataW['WHOk']!=0]['WHOk'].count()]\n",
    "labels = [\"Above normal\", \"Normal and below normal\"]\n",
    "fig, ax = plt.subplots()\n",
    "ax.pie(vals, labels=labels, startangle=90, colors=['thistle','lightblue'])\n",
    "ax.set_title('Before')"
   ]
  },
  {
   "cell_type": "code",
   "execution_count": 131,
   "metadata": {},
   "outputs": [
    {
     "data": {
      "text/plain": [
       "Text(0.5, 1.0, 'After')"
      ]
     },
     "execution_count": 131,
     "metadata": {},
     "output_type": "execute_result"
    },
    {
     "data": {
      "image/png": "[encoded data removed]",
      "text/plain": [
       "<Figure size 432x288 with 1 Axes>"
      ]
     },
     "metadata": {},
     "output_type": "display_data"
    }
   ],
   "source": [
    "vals = [dataW[dataW['WHOkF']==0]['WHOkF'].count(), dataW[dataW['WHOkF']!=0]['WHOkF'].count()]\n",
    "labels = [\"Above normal\", \"Normal and below normal\"]\n",
    "fig, ax = plt.subplots()\n",
    "ax.pie(vals, labels=labels, startangle=90, colors=['thistle','lightblue'])\n",
    "ax.set_title('After')"
   ]
  },
  {
   "cell_type": "code",
   "execution_count": null,
   "metadata": {},
   "outputs": [],
   "source": []
  }
 ],
 "metadata": {
  "kernelspec": {
   "display_name": "Python 3",
   "language": "python",
   "name": "python3"
  },
  "language_info": {
   "codemirror_mode": {
    "name": "ipython",
    "version": 3
   },
   "file_extension": ".py",
   "mimetype": "text/x-python",
   "name": "python",
   "nbconvert_exporter": "python",
   "pygments_lexer": "ipython3",
   "version": "3.7.6"
  }
 },
 "nbformat": 4,
 "nbformat_minor": 4
}
